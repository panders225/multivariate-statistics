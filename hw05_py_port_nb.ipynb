{
 "cells": [
  {
   "cell_type": "code",
   "execution_count": null,
   "metadata": {
    "collapsed": false
   },
   "outputs": [],
   "source": [
    "import pandas as pd\n",
    "import numpy as np\n",
    "from sklearn import linear_model\n",
    "from sklearn.metrics import mean_squared_error"
   ]
  },
  {
   "cell_type": "code",
   "execution_count": null,
   "metadata": {
    "collapsed": false
   },
   "outputs": [],
   "source": [
    "# read in our data\n",
    "happy = pd.read_csv(\"/Users/Philip/Schools/TAMU/STAT_636/homework/happiness.csv\")\n",
    "# keep only the columns we care about\n",
    "happy = happy[happy.columns[range(4,10+1)]]\n",
    "happy.head()\n"
   ]
  },
  {
   "cell_type": "code",
   "execution_count": null,
   "metadata": {
    "collapsed": false
   },
   "outputs": [],
   "source": [
    "\n",
    "X_train = happy[happy.columns[range(0,6)]]\n",
    "# generate intercept column - this will have the same length as the other column\n",
    "one_col = pd.DataFrame(np.ones(X_train.shape[0]))\n",
    "one_col.rename(columns={0:'int'}, inplace=True  )\n",
    "\n",
    "# merge these\n",
    "X_train = pd.concat([one_col, X_train], axis=1)\n",
    "\n",
    "# response\n",
    "Y_train = pd.DataFrame(happy[happy.columns[6]])"
   ]
  },
  {
   "cell_type": "code",
   "execution_count": null,
   "metadata": {
    "collapsed": false
   },
   "outputs": [],
   "source": [
    "# create a loop to execute LOOCV\n",
    "\n",
    "def loocv_lm(X_train, Y_train):\n",
    "\n",
    "    a = range(X_train.shape[0])\n",
    "    mse_list = []\n",
    "\n",
    "    for i in range(X_train.shape[0]):\n",
    "        # design matrix\n",
    "        loo_dat = X_train.iloc[a[:i] + a[(i+1):], :]\n",
    "        valid_dat = X_train.iloc[a[i], :]\n",
    "        valid_dat = valid_dat.values.reshape(1, -1) # manipulation required for sklearn predictions\n",
    "\n",
    "        # response vector\n",
    "        loo_resp = Y_train.iloc[a[:i] + a[(i+1):], :]\n",
    "        valid_resp = Y_train.iloc[a[i], :]\n",
    "\n",
    "        loo_regr = linear_model.LinearRegression(fit_intercept=False) # we have already handled this\n",
    "        loo_regr.fit(loo_dat, loo_resp)\n",
    "\n",
    "        # make a prediction\n",
    "        loo_pred = loo_regr.predict(valid_dat)\n",
    "\n",
    "        # calculate the mean-squared error\n",
    "        mse = mean_squared_error(valid_resp, loo_pred)\n",
    "        mse_list.append(mse)\n",
    "\n",
    "    # get the final mse for all of the models    \n",
    "    mse_tot = sum(mse_list) / len(mse_list)\n",
    "    \n",
    "    return mse_tot, mse_list"
   ]
  },
  {
   "cell_type": "code",
   "execution_count": null,
   "metadata": {
    "collapsed": false
   },
   "outputs": [],
   "source": [
    "mse_tot, mse_list = loocv_lm(X_train=X_train, Y_train=Y_train)"
   ]
  },
  {
   "cell_type": "code",
   "execution_count": null,
   "metadata": {
    "collapsed": false
   },
   "outputs": [],
   "source": [
    "# bootstrapping function for our list of squared errors\n",
    "\n",
    "def loo_bootstrap(x, B=10000):\n",
    "    \"\"\"\n",
    "    function to simulate a sampling distribution for our iterative MSE values.\n",
    "    x needs to be in list format\n",
    "    \"\"\"\n",
    "    # holding shell\n",
    "    mean_list = []\n",
    "    \n",
    "    for i in range(0, B):\n",
    "        hold_samp = np.random.choice(x, size=len(x), replace=True)\n",
    "        hold_mean = hold_samp.mean()\n",
    "        mean_list.append(hold_mean)\n",
    "    \n",
    "    return mean_list\n"
   ]
  },
  {
   "cell_type": "code",
   "execution_count": null,
   "metadata": {
    "collapsed": false
   },
   "outputs": [],
   "source": [
    "boot = loo_bootstrap(x=mse_list)\n",
    "# compare\n",
    "print(sum(boot) / len(boot))\n",
    "print(mse_tot)"
   ]
  },
  {
   "cell_type": "code",
   "execution_count": null,
   "metadata": {
    "collapsed": false
   },
   "outputs": [],
   "source": [
    "# regularized regression\n",
    "\n",
    "# first, determine the proper alpha\n",
    "opt_alpha = linear_model.LassoCV(fit_intercept=False)\n",
    "opt_alpha.fit(X_train, Y_train)\n",
    "print(opt_alpha.alpha_)\n"
   ]
  },
  {
   "cell_type": "code",
   "execution_count": null,
   "metadata": {
    "collapsed": true
   },
   "outputs": [],
   "source": [
    "# now, make a function to do this for us:\n",
    "def loocv_lasso(X_train, Y_train):\n",
    "\n",
    "    a = range(X_train.shape[0])\n",
    "    mse_list = []\n",
    "\n",
    "    for i in range(X_train.shape[0]):\n",
    "        # design matrix\n",
    "        loo_dat = X_train.iloc[a[:i] + a[(i+1):], :]\n",
    "        valid_dat = X_train.iloc[a[i], :]\n",
    "        valid_dat = valid_dat.values.reshape(1, -1) # manipulation required for sklearn predictions\n",
    "\n",
    "        # response vector\n",
    "        loo_resp = Y_train.iloc[a[:i] + a[(i+1):], :]\n",
    "        valid_resp = Y_train.iloc[a[i], :]\n",
    "\n",
    "        loo_regr = linear_model.Lasso(alpha=opt_alpha.alpha_ , fit_intercept=False) # we have already handled this\n",
    "        loo_regr.fit(loo_dat, loo_resp)\n",
    "\n",
    "        # make a prediction\n",
    "        loo_pred = loo_regr.predict(valid_dat)\n",
    "\n",
    "        # calculate the mean-squared error\n",
    "        mse = mean_squared_error(valid_resp, loo_pred)\n",
    "        mse_list.append(mse)\n",
    "    \n",
    "    mse_tot = sum(mse_list) / len(mse_list)\n",
    "    return mse_tot, mse_list"
   ]
  },
  {
   "cell_type": "code",
   "execution_count": null,
   "metadata": {
    "collapsed": false
   },
   "outputs": [],
   "source": [
    "lasso_mse_tot, lasso_mse_list = loocv_lasso(X_train, Y_train)"
   ]
  },
  {
   "cell_type": "code",
   "execution_count": null,
   "metadata": {
    "collapsed": false
   },
   "outputs": [],
   "source": [
    "print(lasso_mse_tot)"
   ]
  },
  {
   "cell_type": "code",
   "execution_count": 66,
   "metadata": {
    "collapsed": false
   },
   "outputs": [
    {
     "name": "stdout",
     "output_type": "stream",
     "text": [
      "[3, 3]\n"
     ]
    }
   ],
   "source": [
    "class Bag:\n",
    "    def __init__(self):\n",
    "        self.data = []\n",
    "    \n",
    "    def add(self, x):\n",
    "        self.data.append(x)\n",
    "        \n",
    "    def addtwice(self, x):\n",
    "        self.add(x)\n",
    "        self.add(x)\n",
    "\n",
    "phil = Bag()\n",
    "\n",
    "phil.addtwice(3)\n",
    "print phil.data"
   ]
  },
  {
   "cell_type": "code",
   "execution_count": 40,
   "metadata": {
    "collapsed": false
   },
   "outputs": [
    {
     "name": "stdout",
     "output_type": "stream",
     "text": [
      "['roll over']\n",
      "['roll over', 'play_dead']\n"
     ]
    }
   ],
   "source": [
    "d = Dog('Fido')\n",
    "d.add_trick('roll over')\n",
    "print(d.tricks)\n",
    "d.add_trick('play_dead')\n",
    "print(d.tricks)"
   ]
  },
  {
   "cell_type": "code",
   "execution_count": 23,
   "metadata": {
    "collapsed": false
   },
   "outputs": [
    {
     "name": "stdout",
     "output_type": "stream",
     "text": [
      "2\n",
      "4\n",
      "8\n",
      "16\n",
      "16\n"
     ]
    }
   ],
   "source": [
    "while phil.counter < 10:\n",
    "    phil.counter = phil.counter * 2\n",
    "    print(phil.counter)\n",
    "print(phil.counter)\n",
    "del(phil.counter)\n",
    "\n",
    "\n",
    "    "
   ]
  },
  {
   "cell_type": "code",
   "execution_count": null,
   "metadata": {
    "collapsed": true
   },
   "outputs": [],
   "source": []
  }
 ],
 "metadata": {
  "kernelspec": {
   "display_name": "Python 2",
   "language": "python",
   "name": "python2"
  },
  "language_info": {
   "codemirror_mode": {
    "name": "ipython",
    "version": 2
   },
   "file_extension": ".py",
   "mimetype": "text/x-python",
   "name": "python",
   "nbconvert_exporter": "python",
   "pygments_lexer": "ipython2",
   "version": "2.7.11"
  }
 },
 "nbformat": 4,
 "nbformat_minor": 0
}
