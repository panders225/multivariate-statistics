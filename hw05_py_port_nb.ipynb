{
 "cells": [
  {
   "cell_type": "code",
   "execution_count": 25,
   "metadata": {
    "collapsed": false
   },
   "outputs": [],
   "source": [
    "import pandas as pd\n",
    "import numpy as np\n",
    "from sklearn import linear_model\n",
    "from sklearn.metrics import mean_squared_error"
   ]
  },
  {
   "cell_type": "code",
   "execution_count": 2,
   "metadata": {
    "collapsed": false
   },
   "outputs": [
    {
     "data": {
      "text/html": [
       "<div>\n",
       "<style scoped>\n",
       "    .dataframe tbody tr th:only-of-type {\n",
       "        vertical-align: middle;\n",
       "    }\n",
       "\n",
       "    .dataframe tbody tr th {\n",
       "        vertical-align: top;\n",
       "    }\n",
       "\n",
       "    .dataframe thead th {\n",
       "        text-align: right;\n",
       "    }\n",
       "</style>\n",
       "<table border=\"1\" class=\"dataframe\">\n",
       "  <thead>\n",
       "    <tr style=\"text-align: right;\">\n",
       "      <th></th>\n",
       "      <th>Economy (GDP per Capita)</th>\n",
       "      <th>Family</th>\n",
       "      <th>Health (Life Expectancy)</th>\n",
       "      <th>Freedom</th>\n",
       "      <th>Trust (Government Corruption)</th>\n",
       "      <th>Generosity</th>\n",
       "      <th>Dystopia Residual</th>\n",
       "    </tr>\n",
       "  </thead>\n",
       "  <tbody>\n",
       "    <tr>\n",
       "      <th>0</th>\n",
       "      <td>1.44178</td>\n",
       "      <td>1.16374</td>\n",
       "      <td>0.79504</td>\n",
       "      <td>0.57941</td>\n",
       "      <td>0.44453</td>\n",
       "      <td>0.36171</td>\n",
       "      <td>2.73939</td>\n",
       "    </tr>\n",
       "    <tr>\n",
       "      <th>1</th>\n",
       "      <td>1.52733</td>\n",
       "      <td>1.14524</td>\n",
       "      <td>0.86303</td>\n",
       "      <td>0.58557</td>\n",
       "      <td>0.41203</td>\n",
       "      <td>0.28083</td>\n",
       "      <td>2.69463</td>\n",
       "    </tr>\n",
       "    <tr>\n",
       "      <th>2</th>\n",
       "      <td>1.42666</td>\n",
       "      <td>1.18326</td>\n",
       "      <td>0.86733</td>\n",
       "      <td>0.56624</td>\n",
       "      <td>0.14975</td>\n",
       "      <td>0.47678</td>\n",
       "      <td>2.83137</td>\n",
       "    </tr>\n",
       "    <tr>\n",
       "      <th>3</th>\n",
       "      <td>1.57744</td>\n",
       "      <td>1.12690</td>\n",
       "      <td>0.79579</td>\n",
       "      <td>0.59609</td>\n",
       "      <td>0.35776</td>\n",
       "      <td>0.37895</td>\n",
       "      <td>2.66465</td>\n",
       "    </tr>\n",
       "    <tr>\n",
       "      <th>4</th>\n",
       "      <td>1.40598</td>\n",
       "      <td>1.13464</td>\n",
       "      <td>0.81091</td>\n",
       "      <td>0.57104</td>\n",
       "      <td>0.41004</td>\n",
       "      <td>0.25492</td>\n",
       "      <td>2.82596</td>\n",
       "    </tr>\n",
       "  </tbody>\n",
       "</table>\n",
       "</div>"
      ],
      "text/plain": [
       "   Economy (GDP per Capita)   Family  Health (Life Expectancy)  Freedom  \\\n",
       "0                   1.44178  1.16374                   0.79504  0.57941   \n",
       "1                   1.52733  1.14524                   0.86303  0.58557   \n",
       "2                   1.42666  1.18326                   0.86733  0.56624   \n",
       "3                   1.57744  1.12690                   0.79579  0.59609   \n",
       "4                   1.40598  1.13464                   0.81091  0.57104   \n",
       "\n",
       "   Trust (Government Corruption)  Generosity  Dystopia Residual  \n",
       "0                        0.44453     0.36171            2.73939  \n",
       "1                        0.41203     0.28083            2.69463  \n",
       "2                        0.14975     0.47678            2.83137  \n",
       "3                        0.35776     0.37895            2.66465  \n",
       "4                        0.41004     0.25492            2.82596  "
      ]
     },
     "execution_count": 2,
     "metadata": {},
     "output_type": "execute_result"
    }
   ],
   "source": [
    "# read in our data\n",
    "happy = pd.read_csv(\"/Users/Philip/Schools/TAMU/STAT_636/homework/happiness.csv\")\n",
    "# keep only the columns we care about\n",
    "happy = happy[happy.columns[range(4,10+1)]]\n",
    "happy.head()\n"
   ]
  },
  {
   "cell_type": "code",
   "execution_count": 10,
   "metadata": {
    "collapsed": false
   },
   "outputs": [
    {
     "name": "stdout",
     "output_type": "stream",
     "text": [
      "   int  Economy (GDP per Capita)   Family  Health (Life Expectancy)  Freedom  \\\n",
      "0  1.0                   1.44178  1.16374                   0.79504  0.57941   \n",
      "1  1.0                   1.52733  1.14524                   0.86303  0.58557   \n",
      "2  1.0                   1.42666  1.18326                   0.86733  0.56624   \n",
      "3  1.0                   1.57744  1.12690                   0.79579  0.59609   \n",
      "4  1.0                   1.40598  1.13464                   0.81091  0.57104   \n",
      "\n",
      "   Trust (Government Corruption)  Generosity  \n",
      "0                        0.44453     0.36171  \n",
      "1                        0.41203     0.28083  \n",
      "2                        0.14975     0.47678  \n",
      "3                        0.35776     0.37895  \n",
      "4                        0.41004     0.25492  \n",
      "\n",
      "\n",
      "\n",
      "   Dystopia Residual\n",
      "0            2.73939\n",
      "1            2.69463\n",
      "2            2.83137\n",
      "3            2.66465\n",
      "4            2.82596\n"
     ]
    }
   ],
   "source": [
    "\n",
    "X_train = happy[happy.columns[range(0,6)]]\n",
    "# generate intercept column - this will have the same length as the other column\n",
    "one_col = pd.DataFrame(np.ones(X_train.shape[0]))\n",
    "one_col.rename(columns={0:'int'}, inplace=True  )\n",
    "\n",
    "# merge these\n",
    "X_train = pd.concat([one_col, X_train], axis=1)\n",
    "\n",
    "# response\n",
    "Y_train = pd.DataFrame(happy[happy.columns[6]])\n",
    "\n",
    "print(X_train.head())\n",
    "print(\"\\n\\n\")\n",
    "print(Y_train.head())"
   ]
  },
  {
   "cell_type": "code",
   "execution_count": 11,
   "metadata": {
    "collapsed": false
   },
   "outputs": [],
   "source": [
    "# create a loop to execute LOOCV\n",
    "\n",
    "def loocv_lm(X_train, Y_train):\n",
    "    \"\"\"Conducts Leave-One-Out Cross Validation\n",
    "    \n",
    "    Estimates the Mean-Squared Error for a linear model of a fixed specification.  \n",
    "    \n",
    "    Args:\n",
    "        X_train: pandas dataframe with predictor variables.\n",
    "        Y_train: pandas dataframe with corresponding response variable.\n",
    "        \n",
    "    Returns:\n",
    "        mse_list: List containing all MSE values from all fitted models.  \n",
    "        mse_tot: Average MSE from all models.\n",
    "    \n",
    "    \"\"\"\n",
    "    a = range(X_train.shape[0])\n",
    "    mse_list = []\n",
    "\n",
    "    for i in range(X_train.shape[0]):\n",
    "        # design matrix\n",
    "        loo_dat = X_train.iloc[a[:i] + a[(i+1):], :]\n",
    "        valid_dat = X_train.iloc[a[i], :]\n",
    "        valid_dat = valid_dat.values.reshape(1, -1) # manipulation required for sklearn predictions\n",
    "\n",
    "        # response vector\n",
    "        loo_resp = Y_train.iloc[a[:i] + a[(i+1):], :]\n",
    "        valid_resp = Y_train.iloc[a[i], :]\n",
    "\n",
    "        loo_regr = linear_model.LinearRegression(fit_intercept=False) # we have already handled this\n",
    "        loo_regr.fit(loo_dat, loo_resp)\n",
    "\n",
    "        # make a prediction\n",
    "        loo_pred = loo_regr.predict(valid_dat)\n",
    "\n",
    "        # calculate the mean-squared error\n",
    "        mse = mean_squared_error(valid_resp, loo_pred)\n",
    "        mse_list.append(mse)\n",
    "\n",
    "    # get the final mse for all of the models    \n",
    "    mse_tot = sum(mse_list) / len(mse_list)\n",
    "    \n",
    "    return mse_tot, mse_list"
   ]
  },
  {
   "cell_type": "code",
   "execution_count": 15,
   "metadata": {
    "collapsed": false
   },
   "outputs": [
    {
     "name": "stdout",
     "output_type": "stream",
     "text": [
      "0.306910236066\n"
     ]
    }
   ],
   "source": [
    "mse_tot, mse_list = loocv_lm(X_train=X_train, Y_train=Y_train)\n",
    "print(mse_tot)"
   ]
  },
  {
   "cell_type": "code",
   "execution_count": 42,
   "metadata": {
    "collapsed": true
   },
   "outputs": [],
   "source": [
    "def loo_bootstrap(X_train, Y_train, B=1000):\n",
    "    \"\"\"Conducts bootstrap sampling for MSE statistic.\n",
    "    \n",
    "    Args:\n",
    "        X_train: pandas dataframe with predictor variables.\n",
    "        Y_train: pandas dataframe with corresponding response variable.\n",
    "        B: Number of bootstrap replicates.  Defaults to 1000.\n",
    "        \n",
    "    Returns:\n",
    "        mse_list: List with B MSE values\n",
    "        \n",
    "    \"\"\"\n",
    "    \n",
    "    # holding shell\n",
    "    a = range(X_train.shape[0])\n",
    "    mse_list = []\n",
    "    \n",
    "    for i in range(0, B):\n",
    "        np.random.seed(1738+i)\n",
    "        samp_idx = np.random.choice(a, size=X_train.shape[0], replace=True)\n",
    "        hold_mat = X_train.iloc[samp_idx]\n",
    "        hold_resp = Y_train.iloc[samp_idx]\n",
    "        \n",
    "        bs_regr = linear_model.LinearRegression(fit_intercept=False)\n",
    "        bs_regr.fit(hold_mat, hold_resp)\n",
    "        \n",
    "        bs_pred = bs_regr.predict(hold_mat)\n",
    "        \n",
    "        mse = mean_squared_error(hold_resp, bs_pred)\n",
    "        mse_list.append(mse)\n",
    "    \n",
    "    return mse_list    "
   ]
  },
  {
   "cell_type": "code",
   "execution_count": 46,
   "metadata": {
    "collapsed": false
   },
   "outputs": [
    {
     "data": {
      "text/plain": [
       "0.033067136039092296"
      ]
     },
     "execution_count": 46,
     "metadata": {},
     "output_type": "execute_result"
    }
   ],
   "source": [
    "bs_mse = loo_bootstrap(X_train=X_train, Y_train=Y_train, B=1000)\n",
    "np.std(bs_mse)"
   ]
  },
  {
   "cell_type": "code",
   "execution_count": null,
   "metadata": {
    "collapsed": false
   },
   "outputs": [],
   "source": [
    "boot = loo_bootstrap(x=mse_list)\n",
    "# compare\n",
    "print(sum(boot) / len(boot))\n",
    "print(mse_tot)"
   ]
  },
  {
   "cell_type": "code",
   "execution_count": 48,
   "metadata": {
    "collapsed": false
   },
   "outputs": [],
   "source": [
    "# let's make a class\n",
    "\n",
    "class HomeworkFive:\n",
    "    \"\"\"Performs both LOOCV and bootstrapping for MSE statistic. \n",
    "    \n",
    "    Methods:\n",
    "        loocv_lm: Performs leave-one-out CV on two pandas df inputs.\n",
    "        loo_bootstrap: Conducts bootstrap sampling for MSE statistic.\n",
    "        \n",
    "    \"\"\"\n",
    "    \n",
    "    def loocv_lm(self, X_train, Y_train):\n",
    "        \"\"\"Conducts Leave-One-Out Cross Validation\n",
    "\n",
    "        Estimates the Mean-Squared Error for a linear model of a fixed specification.  \n",
    "\n",
    "        Args:\n",
    "            X_train: pandas dataframe with predictor variables.\n",
    "            Y_train: pandas dataframe with corresponding response variable.\n",
    "\n",
    "        Returns:\n",
    "            mse_list: List containing all MSE values from all fitted models.  \n",
    "            mse_tot: Average MSE from all models.\n",
    "\n",
    "        \"\"\"\n",
    "        a = range(X_train.shape[0])\n",
    "        mse_list = []\n",
    "\n",
    "        for i in range(X_train.shape[0]):\n",
    "            # design matrix\n",
    "            loo_dat = X_train.iloc[a[:i] + a[(i+1):], :]\n",
    "            valid_dat = X_train.iloc[a[i], :]\n",
    "            valid_dat = valid_dat.values.reshape(1, -1) # manipulation required for sklearn predictions\n",
    "\n",
    "            # response vector\n",
    "            loo_resp = Y_train.iloc[a[:i] + a[(i+1):], :]\n",
    "            valid_resp = Y_train.iloc[a[i], :]\n",
    "\n",
    "            loo_regr = linear_model.LinearRegression(fit_intercept=False) # we have already handled this\n",
    "            loo_regr.fit(loo_dat, loo_resp)\n",
    "\n",
    "            # make a prediction\n",
    "            loo_pred = loo_regr.predict(valid_dat)\n",
    "\n",
    "            # calculate the mean-squared error\n",
    "            mse = mean_squared_error(valid_resp, loo_pred)\n",
    "            mse_list.append(mse)\n",
    "\n",
    "        # get the final mse for all of the models    \n",
    "        mse_tot = sum(mse_list) / len(mse_list)\n",
    "\n",
    "        return mse_tot, mse_list\n",
    "        \n",
    "    \n",
    "    def loo_bootstrap(self, X_train, Y_train, B=1000):\n",
    "        \"\"\"Conducts bootstrap sampling for MSE statistic.\n",
    "\n",
    "        Args:\n",
    "            X_train: pandas dataframe with predictor variables.\n",
    "            Y_train: pandas dataframe with corresponding response variable.\n",
    "            B: Number of bootstrap replicates.  Defaults to 1000.\n",
    "\n",
    "        Returns:\n",
    "            mse_list: List with B MSE values\n",
    "\n",
    "        \"\"\"\n",
    "\n",
    "        # holding shell\n",
    "        a = range(X_train.shape[0])\n",
    "        mse_list = []\n",
    "\n",
    "        for i in range(0, B):\n",
    "            np.random.seed(1738+i)\n",
    "            samp_idx = np.random.choice(a, size=X_train.shape[0], replace=True)\n",
    "            hold_mat = X_train.iloc[samp_idx]\n",
    "            hold_resp = Y_train.iloc[samp_idx]\n",
    "\n",
    "            bs_regr = linear_model.LinearRegression(fit_intercept=False)\n",
    "            bs_regr.fit(hold_mat, hold_resp)\n",
    "\n",
    "            bs_pred = bs_regr.predict(hold_mat)\n",
    "\n",
    "            mse = mean_squared_error(hold_resp, bs_pred)\n",
    "            mse_list.append(mse)\n",
    "\n",
    "        return mse_list    \n",
    "    \n",
    "    "
   ]
  },
  {
   "cell_type": "code",
   "execution_count": 55,
   "metadata": {
    "collapsed": false
   },
   "outputs": [
    {
     "name": "stdout",
     "output_type": "stream",
     "text": [
      "('LOOCV MSE: ', 0.30691023606597351)\n",
      "\n",
      "\n",
      "('LOOCV MSE SD: ', 0.033067136039092296)\n"
     ]
    }
   ],
   "source": [
    "phil = HomeworkFive()\n",
    "mse_tot, mse_list = phil.loocv_lm(X_train=X_train, Y_train=Y_train)\n",
    "print(\"LOOCV MSE: \", mse_tot)\n",
    "print(\"\\n\") \n",
    "mse_list = phil.loo_bootstrap(X_train=X_train, Y_train=Y_train)\n",
    "print(\"LOOCV MSE SD: \" ,np.std(mse_list))"
   ]
  },
  {
   "cell_type": "code",
   "execution_count": null,
   "metadata": {
    "collapsed": false
   },
   "outputs": [],
   "source": [
    "# regularized regression\n",
    "\n",
    "# first, determine the proper alpha\n",
    "opt_alpha = linear_model.LassoCV(fit_intercept=False)\n",
    "opt_alpha.fit(X_train, Y_train)\n",
    "print(opt_alpha.alpha_)\n"
   ]
  },
  {
   "cell_type": "code",
   "execution_count": null,
   "metadata": {
    "collapsed": true
   },
   "outputs": [],
   "source": [
    "# now, make a function to do this for us:\n",
    "def loocv_lasso(X_train, Y_train):\n",
    "\n",
    "    a = range(X_train.shape[0])\n",
    "    mse_list = []\n",
    "\n",
    "    for i in range(X_train.shape[0]):\n",
    "        # design matrix\n",
    "        loo_dat = X_train.iloc[a[:i] + a[(i+1):], :]\n",
    "        valid_dat = X_train.iloc[a[i], :]\n",
    "        valid_dat = valid_dat.values.reshape(1, -1) # manipulation required for sklearn predictions\n",
    "\n",
    "        # response vector\n",
    "        loo_resp = Y_train.iloc[a[:i] + a[(i+1):], :]\n",
    "        valid_resp = Y_train.iloc[a[i], :]\n",
    "\n",
    "        loo_regr = linear_model.Lasso(alpha=opt_alpha.alpha_ , fit_intercept=False) # we have already handled this\n",
    "        loo_regr.fit(loo_dat, loo_resp)\n",
    "\n",
    "        # make a prediction\n",
    "        loo_pred = loo_regr.predict(valid_dat)\n",
    "\n",
    "        # calculate the mean-squared error\n",
    "        mse = mean_squared_error(valid_resp, loo_pred)\n",
    "        mse_list.append(mse)\n",
    "    \n",
    "    mse_tot = sum(mse_list) / len(mse_list)\n",
    "    return mse_tot, mse_list"
   ]
  },
  {
   "cell_type": "code",
   "execution_count": null,
   "metadata": {
    "collapsed": false
   },
   "outputs": [],
   "source": [
    "lasso_mse_tot, lasso_mse_list = loocv_lasso(X_train, Y_train)"
   ]
  },
  {
   "cell_type": "code",
   "execution_count": null,
   "metadata": {
    "collapsed": false
   },
   "outputs": [],
   "source": [
    "print(lasso_mse_tot)"
   ]
  },
  {
   "cell_type": "code",
   "execution_count": null,
   "metadata": {
    "collapsed": false
   },
   "outputs": [],
   "source": [
    "class Bag:\n",
    "    def __init__(self):\n",
    "        self.data = []\n",
    "    \n",
    "    def add(self, x):\n",
    "        self.data.append(x)\n",
    "        \n",
    "    def addtwice(self, x):\n",
    "        self.add(x)\n",
    "        self.add(x)\n",
    "\n",
    "phil = Bag()\n",
    "\n",
    "phil.addtwice(3)\n",
    "print phil.data"
   ]
  },
  {
   "cell_type": "code",
   "execution_count": null,
   "metadata": {
    "collapsed": false
   },
   "outputs": [],
   "source": [
    "d = Dog('Fido')\n",
    "d.add_trick('roll over')\n",
    "print(d.tricks)\n",
    "d.add_trick('play_dead')\n",
    "print(d.tricks)"
   ]
  },
  {
   "cell_type": "code",
   "execution_count": null,
   "metadata": {
    "collapsed": false
   },
   "outputs": [],
   "source": [
    "while phil.counter < 10:\n",
    "    phil.counter = phil.counter * 2\n",
    "    print(phil.counter)\n",
    "print(phil.counter)\n",
    "del(phil.counter)\n",
    "\n",
    "\n",
    "    "
   ]
  },
  {
   "cell_type": "code",
   "execution_count": null,
   "metadata": {
    "collapsed": true
   },
   "outputs": [],
   "source": []
  }
 ],
 "metadata": {
  "kernelspec": {
   "display_name": "Python 2",
   "language": "python",
   "name": "python2"
  },
  "language_info": {
   "codemirror_mode": {
    "name": "ipython",
    "version": 2
   },
   "file_extension": ".py",
   "mimetype": "text/x-python",
   "name": "python",
   "nbconvert_exporter": "python",
   "pygments_lexer": "ipython2",
   "version": "2.7.11"
  }
 },
 "nbformat": 4,
 "nbformat_minor": 0
}
