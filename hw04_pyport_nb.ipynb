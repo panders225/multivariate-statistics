{
 "cells": [
  {
   "cell_type": "code",
   "execution_count": 41,
   "metadata": {
    "collapsed": false
   },
   "outputs": [],
   "source": [
    "import pandas as pd\n",
    "import numpy as np\n",
    "from sklearn import discriminant_analysis as da\n",
    "from sklearn.metrics import confusion_matrix"
   ]
  },
  {
   "cell_type": "code",
   "execution_count": 95,
   "metadata": {
    "collapsed": false
   },
   "outputs": [
    {
     "name": "stdout",
     "output_type": "stream",
     "text": [
      "          id          name hof     h   hr   rbi  avg  slg  obp\n",
      "0  aaronha01   Aaron, Hank   Y  3771  755  2297  305  555  374\n",
      "1  adairje01  Adair, Jerry   N  1022   57   366  254  347  292\n",
      "2  adcocjo01   Adcock, Joe   N  1832  336  1122  277  485  337\n",
      "3   ageeto01  Agee, Tommie   N   999  130   433  255  412  320\n",
      "4  aguaylu01  Aguayo, Luis   N   260   37   109  236  393  304\n",
      "N    967\n",
      "Y     49\n",
      "Name: hof, dtype: int64\n",
      "N    0.951772\n",
      "Y    0.048228\n",
      "Name: hof, dtype: float64\n",
      "(1016, 6)\n",
      "(1016, 1)\n"
     ]
    }
   ],
   "source": [
    "# data import\n",
    "hof = pd.read_csv(\"/Users/Philip/Schools/TAMU/STAT_636/homework/hof_data.csv\")\n",
    "hof.columns = map(str.lower, hof.columns) # drop it low\n",
    "\n",
    "#limit down to a handful of predictors\n",
    "hof = hof[['id', 'name', 'hof', 'h', 'hr', 'rbi', 'avg', 'slg', 'obp']]\n",
    "\n",
    "# make sure we did it correctly\n",
    "print(hof.head())\n",
    "\n",
    "# contingency table of the HOF proportion in the data set\n",
    "print(hof.hof.value_counts())\n",
    "print(hof.hof.value_counts() / hof.shape[0])\n",
    "\n",
    "# let's get the data into a scikit-friendly form\n",
    "X_train = hof[['h', 'hr', 'rbi', 'avg', 'slg', 'obp']]\n",
    "print(X_train.shape)\n",
    "Y_train = hof[['hof']]\n",
    "print(Y_train.shape)"
   ]
  },
  {
   "cell_type": "code",
   "execution_count": 52,
   "metadata": {
    "collapsed": false
   },
   "outputs": [],
   "source": [
    "# conduct the linear discriminant analysis\n",
    "lda_obj = da.LinearDiscriminantAnalysis()\n",
    "lda_obj.fit(X_train, Y_train.values.ravel())\n",
    "pred = lda_obj.predict(X_train)\n",
    "\n"
   ]
  },
  {
   "cell_type": "code",
   "execution_count": 74,
   "metadata": {
    "collapsed": false
   },
   "outputs": [],
   "source": [
    "# looks like we will need a custom function to acquire the \n",
    "# sensitivity, specificity, etc.  sounds about right for python\n",
    "\n",
    "def caret_conf_mat(true_vals, pred_vals):\n",
    "    \"\"\"\n",
    "    input the true values as an array.  input the predicted values\n",
    "    as the output from an sklearn prediction\n",
    "    \"\"\"\n",
    "    \n",
    "    #conf_mat = confusion_matrix(true_vals, pred)\n",
    "    conf_mat = confusion_matrix(Y_train.values, pred)\n",
    "    FP = conf_mat.sum(axis=0) - np.diag(conf_mat)\n",
    "    FN = conf_mat.sum(axis=1) - np.diag(conf_mat)\n",
    "    TP = np.diag(conf_mat)\n",
    "    TN = conf_mat.sum() - (FP + FN + TP)\n",
    "    \n",
    "    SENS = TP/(TP+FN)\n",
    "    SPEC = TN/(TN+FP)\n",
    "    PPV = TP/(TP+FP)\n",
    "    NPV = TN/(TN+FN)\n",
    "    BA = (SENS + (3*SPEC)) / 4\n",
    "    \n",
    "    return conf_mat, SENS, SPEC, PPV, NPV, BA\n",
    "\n"
   ]
  },
  {
   "cell_type": "code",
   "execution_count": 94,
   "metadata": {
    "collapsed": false
   },
   "outputs": [
    {
     "name": "stdout",
     "output_type": "stream",
     "text": [
      "33 33 983 -33\n",
      "[[952  15]\n",
      " [ 18  31]]\n"
     ]
    }
   ],
   "source": [
    "conf_mat = confusion_matrix(Y_train.values, pred)\n",
    "FP = (conf_mat.sum(axis=0) - np.diag(conf_mat)).sum()\n",
    "FN = (conf_mat.sum(axis=1) - np.diag(conf_mat)).sum()\n",
    "TP = (np.diag(conf_mat)).sum()\n",
    "TN = (conf_mat.sum() - (FP + FN + TP)).sum()\n",
    "    \n",
    "#SENS = TP/(TP+FN)\n",
    "#SPEC = TN/(TN+FP)\n",
    "#PPV = TP/(TP+FP)\n",
    "#NPV = TN/(TN+FN)\n",
    "#BA = (SENS + (3*SPEC)) / 4\n",
    "\n",
    "#caret_conf_mat(Y_train.values, pred)\n",
    "print FP, FN, TP, TN\n",
    "print conf_mat"
   ]
  },
  {
   "cell_type": "code",
   "execution_count": 64,
   "metadata": {
    "collapsed": false
   },
   "outputs": [
    {
     "name": "stdout",
     "output_type": "stream",
     "text": [
      "[[952  15]\n",
      " [ 18  31]]\n",
      "1016\n"
     ]
    }
   ],
   "source": [
    "print(conf_mat)\n",
    "print conf_mat.sum()"
   ]
  }
 ],
 "metadata": {
  "kernelspec": {
   "display_name": "Python 2",
   "language": "python",
   "name": "python2"
  },
  "language_info": {
   "codemirror_mode": {
    "name": "ipython",
    "version": 2
   },
   "file_extension": ".py",
   "mimetype": "text/x-python",
   "name": "python",
   "nbconvert_exporter": "python",
   "pygments_lexer": "ipython2",
   "version": "2.7.11"
  }
 },
 "nbformat": 4,
 "nbformat_minor": 0
}
